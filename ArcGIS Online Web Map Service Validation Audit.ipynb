{
 "cells": [
  {
   "cell_type": "markdown",
   "metadata": {},
   "source": [
    "# ArcGIS Online Web Map Service Validation Audit\n",
    "Description: This script will check the urls of map services within webmaps to determine if they are valid. \n",
    "If they are not valid, it will write the results to a csv file so they can be taken care of. \n",
    " \n",
    "Beginning with: AGOWebMapServiceValidationAuditPythonAPI.py\n",
    " \n",
    "Created on: 6/1/2018\n",
    " \n",
    "Purpose: This script will check the urls of map services within webmaps to determine if they are valid. \n",
    "    If they are not valid, it will write the results to a csv file so they can be taken care of. This is\n",
    "    written using the ArcGIS Python API. \n",
    " \n",
    "Authored by: Joe Guzi\n",
    " \n",
    "Previous Production Date: 9/3/2018      Production Date: 12/26/2018"
   ]
  },
  {
   "cell_type": "markdown",
   "metadata": {},
   "source": [
    "# Connect to ArcGIS Online"
   ]
  },
  {
   "cell_type": "code",
   "execution_count": null,
   "metadata": {},
   "outputs": [],
   "source": [
    "# import\n",
    "from arcgis.gis import GIS\n",
    "from arcgis.gis.server import Server\n",
    "import getpass\n",
    "from IPython.display import display\n",
    "from arcgis.mapping import WebMap\n",
    "import json\n",
    "import requests\n",
    "import csv\n",
    "from tkinter.filedialog import asksaveasfilename\n",
    "\n",
    "# Connection Variables\n",
    "Organization = input(\"What's your oranization? \")\n",
    "User = input(\"What's your  username? \")\n",
    "Password = getpass.getpass('Password: ')\n",
    "\n",
    "# Connection \n",
    "gis = GIS(Organization, User, Password, verify_cert=False)\n",
    "gis\n",
    "Audit = gis.content.search(query=\"\", item_type=\"Web Map\", max_items = 10000000)\n",
    "s = \"\""
   ]
  },
  {
   "cell_type": "markdown",
   "metadata": {},
   "source": [
    "# Audit Section"
   ]
  },
  {
   "cell_type": "code",
   "execution_count": null,
   "metadata": {},
   "outputs": [],
   "source": [
    "for Item in Audit:\n",
    "    WebMapItem = WebMap(webmapitem = Item)\n",
    "    Layers = WebMapItem.layers\n",
    "    for Layer in Layers:\n",
    "        URL = Layer.get('url')\n",
    "        if URL != None:\n",
    "            try:\n",
    "                request = requests.get(URL)\n",
    "                if request.status_code == 200:\n",
    "                    print('Web site exists')\n",
    "                else:\n",
    "                    ItemID = str(Item.get(\"id\"))\n",
    "                    ItemName = str(Item.get(\"name\"))\n",
    "                    ItemTitle = str(Item.get(\"title\"))#.replace(',', \"\"))\n",
    "                    ItemType = str(Item.get(\"type\"))\n",
    "                    ItemOwner = str(Item.get(\"owner\"))\n",
    "                    Layername = Layer.get(\"title\")\n",
    "                    URLStatusCode = str(request.status_code)\n",
    "                    URL = Layer.get('url')\n",
    "                    s += ItemID + \",\" # switch the t to s\n",
    "                    ItemTitle = ItemTitle.replace(\",\", \";\")\n",
    "                    s += ItemTitle.replace('℠', \"\") + \",\"\n",
    "                    s += ItemType + \",\"\n",
    "                    s += ItemOwner + \",\"\n",
    "                    s += Layername + \",\"\n",
    "                    s += URLStatusCode + \",\"\n",
    "                    s += URL + \",\"\n",
    "                    s += \"\\n\"\n",
    "            except:\n",
    "                print('Web site does not exists')\n",
    "                ItemID = str(Item.get(\"id\"))\n",
    "                ItemName = str(Item.get(\"name\"))\n",
    "                ItemTitle = str(Item.get(\"title\"))#.replace(',', \"\"))\n",
    "                ItemType = str(Item.get(\"type\"))\n",
    "                ItemOwner = str(Item.get(\"owner\"))\n",
    "                Layername = Layer.get(\"title\")\n",
    "                URL = Layer.get('url')\n",
    "                s += ItemID + \",\" # switch the t to s\n",
    "                ItemTitle = ItemTitle.replace(\",\", \";\")\n",
    "                s += ItemTitle.replace('℠', \"\") + \",\"\n",
    "                s += ItemType + \",\"\n",
    "                s += ItemOwner + \",\"\n",
    "                s += Layername + \",\"\n",
    "                s += \"Error\" + \",\"\n",
    "                s += URL + \",\"\n",
    "                s += \"\\n\""
   ]
  },
  {
   "cell_type": "markdown",
   "metadata": {},
   "source": [
    "# Write the Audit Results to Excel"
   ]
  },
  {
   "cell_type": "code",
   "execution_count": null,
   "metadata": {},
   "outputs": [],
   "source": [
    "filename = asksaveasfilename() # show an \"Open\" dialog box and return the path to the selected file\n",
    "print(filename)\n",
    "csvfile = filename + \".csv\"\n",
    "print(csvfile)\n",
    "with open(csvfile, 'w') as output:\n",
    "    print (\"Wrtie data To CSV File\")\n",
    "    output.write(\"WebMapId,WebMapTitle,Type,WebMapOwner,LayerName,LayerStatus,LayerUrl\\n\")\n",
    "    output.writelines(s)\n",
    "    print(\"Wrtie data To CSV File Complete!\")"
   ]
  },
  {
   "cell_type": "code",
   "execution_count": null,
   "metadata": {},
   "outputs": [],
   "source": []
  }
 ],
 "metadata": {
  "kernelspec": {
   "display_name": "Python 3",
   "language": "python",
   "name": "python3"
  },
  "language_info": {
   "codemirror_mode": {
    "name": "ipython",
    "version": 3
   },
   "file_extension": ".py",
   "mimetype": "text/x-python",
   "name": "python",
   "nbconvert_exporter": "python",
   "pygments_lexer": "ipython3",
   "version": "3.6.5"
  }
 },
 "nbformat": 4,
 "nbformat_minor": 2
}
